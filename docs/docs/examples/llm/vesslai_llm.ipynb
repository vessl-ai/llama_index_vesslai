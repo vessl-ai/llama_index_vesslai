{
 "cells": [
  {
   "cell_type": "code",
   "execution_count": null,
   "metadata": {},
   "outputs": [],
   "source": [
    "from llama_index.llms.vesslai import VesslAILLM"
   ]
  },
  {
   "cell_type": "code",
   "execution_count": null,
   "metadata": {},
   "outputs": [],
   "source": [
    "llm = VesslAILLM()"
   ]
  },
  {
   "cell_type": "code",
   "execution_count": null,
   "metadata": {},
   "outputs": [],
   "source": [
    "# 1 Serve with hf model name\n",
    "llm.serve(\n",
    "    service_name=\"llama-index-vesslai-test\",\n",
    "    model_name=\"mistralai/Mistral-7B-Instruct-v0.3\",\n",
    "    hf_token=\"HF_TOKEN\",\n",
    "    api_key=\"OPENAI_API_KEY\",\n",
    ")"
   ]
  },
  {
   "cell_type": "code",
   "execution_count": null,
   "metadata": {},
   "outputs": [],
   "source": [
    "# 2 Serve with yaml file\n",
    "llm.serve(\n",
    "    service_name=\"llama-index-vesslai-test\",\n",
    "    yaml_path=\"/your/own/servie_yaml_file.yaml\",\n",
    ")"
   ]
  },
  {
   "cell_type": "code",
   "execution_count": null,
   "metadata": {},
   "outputs": [],
   "source": [
    "# 3 Connect with pre-served endpoint\n",
    "llm.connect(\n",
    "    served_model_name=\"mistralai/Mistral-7B-Instruct-v0.3\",\n",
    "    endpoint=\"https://model-service-gateway-abc.oregon.google-cluster.vessl.ai/v1\",\n",
    ")"
   ]
  },
  {
   "cell_type": "code",
   "execution_count": null,
   "metadata": {},
   "outputs": [],
   "source": [
    "resp = llm.complete(\"Who is Paul Graham?\")\n",
    "print(resp)"
   ]
  }
 ],
 "metadata": {
  "kernelspec": {
   "display_name": "llama-index-V2OWx8vG-py3.12",
   "language": "python",
   "name": "python3"
  },
  "language_info": {
   "codemirror_mode": {
    "name": "ipython",
    "version": 3
   },
   "file_extension": ".py",
   "mimetype": "text/x-python",
   "name": "python",
   "nbconvert_exporter": "python",
   "pygments_lexer": "ipython3"
  }
 },
 "nbformat": 4,
 "nbformat_minor": 2
}
